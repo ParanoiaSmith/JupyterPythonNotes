{
 "cells": [
  {
   "cell_type": "markdown",
   "metadata": {},
   "source": [
    "# Title notebook\n",
    "\n",
    "There are 2 modes: Edit cells and code. `INTRO` and `ESC` for switching between modes.\n",
    "### In Edit Cells mode:\n",
    ">> \n",
    "&#9710; `up` | `down`: __Navigate__ \n",
    "<br><br> &#9677; `a`(above) | `b`(below): __Create cell__ \n",
    "<br><br> &#9689; `d,d`: __Delete cell__\n",
    "<br><br> &#9686; `y`(code) | `m`(markdown): __Change type cell__\n",
    "<br><br> &#9644; `Ctrl + INTRO`:  __Run cell | multiple cells__\n",
    "<br><br> &#9692; `SHIFT + Up | down`: __Select multiple cells__\n",
    "<br><br> &#9693; `SHIFT + m`: __Merge multiple cells__\n",
    "<br><br> &#9694; `Ctrl + q`: __Quit notebook__\n",
    "<br><br> &#9695; `Ctrl + s`: __Save notebook__\n",
    "<br><br> `x`: __Cut cell__\n",
    "<br><br> `c`: __Copy cell__\n",
    "<br><br> `v`: __Paste cell__\n",
    "<br><br> `z`: __Undo operation__\n",
    "<br><br> `Ctrl + /`: __Coment block__\n",
    "\n",
    "<br>\n",
    "https://www.w3schools.com/charsets/ref_utf_geometric.asp\n",
    "<br><br>\n",
    "\n",
    "***\n",
    "\n",
    "<img src=\"image.png\" height=\"75\" width=\"75\"> "
   ]
  },
  {
   "cell_type": "code",
   "execution_count": 1,
   "metadata": {},
   "outputs": [
    {
     "name": "stdout",
     "output_type": "stream",
     "text": [
      "Hello\n",
      "By\n"
     ]
    }
   ],
   "source": [
    "print('Hello')\n",
    "print('By')"
   ]
  },
  {
   "cell_type": "markdown",
   "metadata": {},
   "source": [
    "### LaTex Equations\n",
    "$e^{i\\pi} + 1 = 0$\n",
    "\n",
    "```python\n",
    "print \"Hello World\"\n",
    "```\n",
    "| This | is   |\n",
    "|------|------|\n",
    "|   a  | table|\n",
    "\n",
    "### Lists\n",
    "1. hola3\n",
    "    1. hola33\n",
    "    * hola333\n",
    "    - hola333\n",
    "        - hola3333\n",
    "\n",
    "### Links\n",
    "[a link to a notebook in a subdirectory](subdir/another.ipynb)\n",
    "<br>\n",
    "[Title notebook](#Title-notebook)"
   ]
  }
 ],
 "metadata": {
  "kernelspec": {
   "display_name": "Python 3",
   "language": "python",
   "name": "python3"
  },
  "language_info": {
   "codemirror_mode": {
    "name": "ipython",
    "version": 3
   },
   "file_extension": ".py",
   "mimetype": "text/x-python",
   "name": "python",
   "nbconvert_exporter": "python",
   "pygments_lexer": "ipython3",
   "version": "3.7.0"
  }
 },
 "nbformat": 4,
 "nbformat_minor": 2
}
