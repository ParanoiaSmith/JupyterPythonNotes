{
 "cells": [
  {
   "cell_type": "markdown",
   "metadata": {},
   "source": [
    "### First impresion"
   ]
  },
  {
   "cell_type": "code",
   "execution_count": 1,
   "metadata": {},
   "outputs": [],
   "source": [
    "# Python only searches the current directory\n",
    "import sys\n",
    "sys.path.append('Functions')\n",
    "from ListFunctions import listFunctions"
   ]
  },
  {
   "cell_type": "code",
   "execution_count": 4,
   "metadata": {},
   "outputs": [
    {
     "name": "stdin",
     "output_type": "stream",
     "text": [
      "Enter your number:  1\n"
     ]
    },
    {
     "name": "stdout",
     "output_type": "stream",
     "text": [
      "The inputted string is: 6 "
     ]
    }
   ],
   "source": [
    "# The value of variables is kept when the cell ends the running \n",
    "foo = 5\n",
    "\n",
    "\"\"\" Get a variable from user and casts it to numeric \"\"\"\n",
    "try:\n",
    "    stringInput = int(input(\"Enter your number: \") ) # Gets a string even if you introduce a 42\n",
    "except Exception:\n",
    "    print(\"You've introduced characters instead of numbers\")    \n",
    "\n",
    "\"\"\" If the variable is successful casted \"\"\"\n",
    "if type(stringInput) is not str: # '==' compares the value and 'is' compare the id(obj)\n",
    "    print('The inputted string is:', foo+int(stringInput), end =\" \")"
   ]
  },
  {
   "cell_type": "markdown",
   "metadata": {},
   "source": [
    "### Data types"
   ]
  },
  {
   "cell_type": "code",
   "execution_count": 5,
   "metadata": {},
   "outputs": [
    {
     "data": {
      "text/plain": [
       "' Strings '"
      ]
     },
     "execution_count": 5,
     "metadata": {},
     "output_type": "execute_result"
    }
   ],
   "source": [
    "\"\"\" Strings \"\"\"\n",
    "# operaciones con strings\n",
    "# *2\n",
    "# algo+algo2\n",
    "# algo[3:8]"
   ]
  },
  {
   "cell_type": "code",
   "execution_count": 2,
   "metadata": {},
   "outputs": [
    {
     "name": "stdout",
     "output_type": "stream",
     "text": [
      "True\n",
      "Multi-dimensional list or list of objects:  [[1, 2, 3], [4, 5], [6, 7], [8]]\n",
      "Flattened list [1, 2, 3, 4, 5, 6, 7, 8]\n"
     ]
    }
   ],
   "source": [
    "\"\"\" Lists \"\"\"\n",
    "print( type([]) is list) # Like STLvector (not like STLlist) but here you can put objects of different types\n",
    "nums = [21, 4.5, \"String\", 42, [7, 2]]\n",
    "listFunctions(10, nums) # 0 - 10 options"
   ]
  },
  {
   "cell_type": "code",
   "execution_count": 7,
   "metadata": {},
   "outputs": [],
   "source": [
    "# "
   ]
  },
  {
   "cell_type": "code",
   "execution_count": null,
   "metadata": {},
   "outputs": [],
   "source": []
  },
  {
   "cell_type": "markdown",
   "metadata": {},
   "source": [
    "# "
   ]
  }
 ],
 "metadata": {
  "kernelspec": {
   "display_name": "Python 3",
   "language": "python",
   "name": "python3"
  },
  "language_info": {
   "codemirror_mode": {
    "name": "ipython",
    "version": 3
   },
   "file_extension": ".py",
   "mimetype": "text/x-python",
   "name": "python",
   "nbconvert_exporter": "python",
   "pygments_lexer": "ipython3",
   "version": "3.7.0"
  }
 },
 "nbformat": 4,
 "nbformat_minor": 2
}
