{
 "cells": [
  {
   "cell_type": "markdown",
   "metadata": {},
   "source": [
    "### First impresion"
   ]
  },
  {
   "cell_type": "code",
   "execution_count": 3,
   "metadata": {},
   "outputs": [
    {
     "name": "stdin",
     "output_type": "stream",
     "text": [
      "Enter your number:  1\n"
     ]
    },
    {
     "name": "stdout",
     "output_type": "stream",
     "text": [
      "The inputted string is: 6 "
     ]
    }
   ],
   "source": [
    "# Python only searches the current directory\n",
    "import sys\n",
    "sys.path.append('Functions')\n",
    "from ListFunctions import listFunctions\n",
    "\n",
    "# The value of variables is kept when the cell ends the running \n",
    "foo = 5\n",
    "\n",
    "\"\"\" Get a variable from user and casts it to numeric \"\"\"\n",
    "try:\n",
    "    stringInput = int(input(\"Enter your number: \") ) # Gets a string even if you introduce a 42\n",
    "except Exception:\n",
    "    print(\"You've introduced characters instead of numbers\")    \n",
    "\n",
    "\"\"\" If the variable is successful casted \"\"\"\n",
    "if type(stringInput) is not str: # '==' compares the value and 'is' compare the id(obj)\n",
    "    print('The inputted string is:', foo+int(stringInput), end =\" \")"
   ]
  },
  {
   "cell_type": "markdown",
   "metadata": {},
   "source": [
    "### Data types"
   ]
  },
  {
   "cell_type": "code",
   "execution_count": 3,
   "metadata": {},
   "outputs": [
    {
     "data": {
      "text/plain": [
       "' Strings '"
      ]
     },
     "execution_count": 3,
     "metadata": {},
     "output_type": "execute_result"
    }
   ],
   "source": [
    "\"\"\" Strings \"\"\"\n",
    "# operaciones con strings\n",
    "# *2\n",
    "# algo+algo2\n",
    "# algo[3:8]"
   ]
  },
  {
   "cell_type": "code",
   "execution_count": 2,
   "metadata": {},
   "outputs": [
    {
     "name": "stdout",
     "output_type": "stream",
     "text": [
      "True List before:  [21, 40.5, 'String', 42]\n",
      "List after:  None\n"
     ]
    }
   ],
   "source": [
    "\"\"\" Lists \"\"\"\n",
    "print( type([]) is list) # Like STLvector (not like STLlist) but here you can put objects of different types\n",
    "nums = []\n",
    "nums.append(21) \n",
    "nums.append(40.5) \n",
    "nums.append(\"String\") \n",
    "nums.append(42) \n",
    "\n",
    "listFunctions(3, nums)\n",
    "\n",
    "# append() Adds an element at the end of the list\n",
    "# clear() Removes all the elements from the list\n",
    "# copy() Returns a copy of the list\n",
    "# count() Returns the number of elements with the specified value\n",
    "# extend() Add the elements of a list (or any iterable), to the end of the current list\n",
    "# index() Returns the index of the first element with the specified value\n",
    "# insert() Adds an element at the specified position\n",
    "# pop() Removes the element at the specified position\n",
    "# remove() Removes the first item with the specified value\n",
    "# reverse() Reverses the order of the list\n",
    "# sort() Sorts the list"
   ]
  },
  {
   "cell_type": "code",
   "execution_count": null,
   "metadata": {},
   "outputs": [],
   "source": [
    "# "
   ]
  }
 ],
 "metadata": {
  "kernelspec": {
   "display_name": "Python 3",
   "language": "python",
   "name": "python3"
  },
  "language_info": {
   "codemirror_mode": {
    "name": "ipython",
    "version": 3
   },
   "file_extension": ".py",
   "mimetype": "text/x-python",
   "name": "python",
   "nbconvert_exporter": "python",
   "pygments_lexer": "ipython3",
   "version": "3.7.0"
  }
 },
 "nbformat": 4,
 "nbformat_minor": 2
}
