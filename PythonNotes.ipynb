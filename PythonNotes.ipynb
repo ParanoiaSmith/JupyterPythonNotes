{
 "cells": [
  {
   "cell_type": "markdown",
   "metadata": {},
   "source": [
    "### First impresion"
   ]
  },
  {
   "cell_type": "code",
   "execution_count": 1,
   "metadata": {},
   "outputs": [],
   "source": [
    "# Python only searches the current directory\n",
    "import sys\n",
    "sys.path.append('Functions')\n",
    "from ListFunctions import listFunctions\n",
    "from StringFunctions import stringFunctions\n",
    "from BuiltInFunctions import builtInFunctions\n",
    "\n",
    "# Python is not C++, It's very easy\n",
    "# It has control flow structures, data\n",
    "# structures, classes, and a bunch of\n",
    "# useful functions.\n",
    "# The interesting part is know and \n",
    "# control the modules needed: Scypi,\n",
    "# pandas, scikit, OpenCV, keras..."
   ]
  },
  {
   "cell_type": "code",
   "execution_count": 4,
   "metadata": {},
   "outputs": [
    {
     "name": "stdin",
     "output_type": "stream",
     "text": [
      "Enter your number:  1\n"
     ]
    },
    {
     "name": "stdout",
     "output_type": "stream",
     "text": [
      "The inputted string is: 6 "
     ]
    }
   ],
   "source": [
    "# The value of variables is kept when the cell ends the running \n",
    "foo = 5\n",
    "\n",
    "\"\"\" Get a variable from user and casts it to numeric \"\"\"\n",
    "try:\n",
    "    stringInput = int(input(\"Enter your number: \") ) # Gets a string even if you introduce a 42\n",
    "except Exception:\n",
    "    print(\"You've introduced characters instead of numbers\")    \n",
    "\n",
    "\"\"\" If the variable is successful casted \"\"\"\n",
    "if type(stringInput) is not str: # '==' compares the value and 'is' compare the id(obj)\n",
    "    print('The inputted string is:', foo+int(stringInput), end =\" \")"
   ]
  },
  {
   "cell_type": "markdown",
   "metadata": {},
   "source": [
    "### Data types"
   ]
  },
  {
   "cell_type": "code",
   "execution_count": 2,
   "metadata": {},
   "outputs": [
    {
     "name": "stdout",
     "output_type": "stream",
     "text": [
      "38\n",
      "1. BASIC OPERATIONS:\n",
      "Addition with (+):  aaaahello, my name is:\t Javier \n",
      "Tauste Maginfic\n",
      "Repeat with (*):  aaaahello, my name is:\t Javier \n",
      "Tausteaaaahello, my name is:\t Javier \n",
      "Tauste\n",
      "Accesing, slicing:  ahell\n",
      "\n",
      "2. LOWER/UPPER:\n",
      "Upper first char:  Aaaahello, my name is:\t javier \n",
      "tauste\n",
      "Are all chars UPPER?:  False\n",
      "Upper all chars:  AAAAHELLO, MY NAME IS:\t JAVIER \n",
      "TAUSTE\n",
      "Has title format?: False Title: Every word with first char upper\n",
      "Convert to title format Aaaahello, My Name Is:\t Javier \n",
      "Tauste\n",
      "Swap Upper<->Lower:  AAAAHELLO, MY NAME IS:\t jAVIER \n",
      "tAUSTE\n",
      "LOWER all chars:  aaaahello, my name is:\t javier \n",
      "tauste\n",
      "Are all chars LOWER?: False\n",
      "LOWER all chars aaaahello, my name is:\t javier \n",
      "tauste\n",
      "\n",
      "3. SEARCH:\n",
      "Find and returns the position:  -1\n",
      "Find and returns the position:  24\n",
      "Find and returns the position:  24\n",
      "Find and returns the position:  24\n",
      "Count 'a' ocurrences:  7\n",
      "Ends with 'i'?:  False\n",
      "Starts with 'aa'?:  True\n",
      "\n",
      "4. ARE ALL CHARS...\n",
      "Alphanumerics?: False\n",
      "Alphabets?: False\n",
      "Decimals?: False\n",
      "Digits?: False\n",
      "Valid identifier?: False Valid identifier if it only contains (a-z)|(0-9)|(_)\n",
      "Numerics?: False\n",
      "Printables?: False Non-printable: '\n",
      "', '\t', etc\n",
      "Whitespaces?: False\n",
      "\n",
      "5. FORMAT: \n",
      "PARAM: len(string) + newChars\n",
      "Format, place arguments before: Halo Javier, I'm         25, I'm Pol\n",
      "Fortmat with a dictionary:  Point(-4, five, 0)\n",
      "Encode to (ASCII, etc...):  b'aaaahello, my name is:\\t Javier \\nTauste'\n",
      "Replace string for other string:  aaaahello, my alter ego is:\t Javier \n",
      "Tauste\n",
      "Joins the elements of an iterable with '#Halo_*':  Paranoia#Halo_*Smith\n",
      "Set the \t length to PARAM:  aaaahello, my name is:                             Javier \n",
      "Tauste\n",
      "Centered, PARAM:  000000aaaahello, my name is:\t Javier \n",
      "Tauste000000\n",
      "Justify-left, PARAM aaaahello, my name is:\t Javier \n",
      "Tauste000000000000\n",
      "Left-zeros fill, PARAM:  000000000000aaaahello, my name is:\t Javier \n",
      "Tauste\n",
      "\n",
      "SPLIT: \n",
      "Removes specific final string:  aaaahello, my name is:\t Javier \n",
      "Tau\n",
      "Removes repeated 'a' in the left hello, my name is:\t Javier \n",
      "Tauste\n",
      "Triplet-tuple with 'name' at middle:  ('aaaahello, my ', 'name', ' is:\\t Javier \\nTauste')\n",
      "Same but right-last ocurrence:  ('aaaahello, my ', 'name', ' is:\\t Javier \\nTauste')\n",
      "List-split looking ', ':  ['aaaahello', 'my name is:\\t Javier \\nTauste']  Default whitespaces\n",
      "Same beginning right:  ['aaaahello', 'my name is:\\t Javier \\nTauste']  Last param indicates number splits\n",
      "Splits at line-breacks:  ['aaaahello, my name is:\\t Javier ', 'Tauste']\n",
      "Convert some chars to others:  1111h2ll4, my n1m2 3s:\t J1v32r \n",
      "T15st2\n",
      "\n",
      "\n",
      "PLUS ALL BUILT-IN FUNCTIONS\n"
     ]
    }
   ],
   "source": [
    "\"\"\" Strings \"\"\"\n",
    "print( len(\"aaaahello, my name is:\\t Javier \\nTauste\") )\n",
    "stringFunctions(\"aaaahello, my name is:\\t Javier \\nTauste\")"
   ]
  },
  {
   "cell_type": "code",
   "execution_count": 5,
   "metadata": {},
   "outputs": [
    {
     "name": "stdout",
     "output_type": "stream",
     "text": [
      "True\n",
      "List before:  [21, 4.5, 'String', 42, [7, 2]]\n",
      "You've introduced a non valid selector\n"
     ]
    }
   ],
   "source": [
    "\"\"\" Lists \"\"\"\n",
    "print( type([]) is list) # Like STLvector (not like STLlist) but here you can put objects of different types\n",
    "nums = [21, 4.5, \"String\", 42, [7, 2]]\n",
    "\n",
    "# 0: listSort,\n",
    "# 1: listClear,\n",
    "# 2: listCopy,\n",
    "# 3: listAppend,\n",
    "# 4: listExtend,\n",
    "# 5: listInsert,\n",
    "# 6: listCount,\n",
    "# 7: listIndex,\n",
    "# 8: listPopAndRemove,\n",
    "# 9: listReverse,\n",
    "# 10: listFlatten,\n",
    "# 11: listBasicOps,\n",
    "# 12: listAccesingSlicing,\n",
    "# 13: listComprehension\n",
    "listFunctions(1, nums) "
   ]
  },
  {
   "cell_type": "code",
   "execution_count": 2,
   "metadata": {},
   "outputs": [
    {
     "name": "stdout",
     "output_type": "stream",
     "text": [
      "140735021379552\n",
      "140735021379520\n",
      "False\n",
      "True\n",
      "bytearray(b'hola')\n",
      "b'hola'\n",
      "True\n",
      "<memory at 0x0000017C95A8EAC8>\n",
      "(3+5j)\n",
      "(2.0, 1.2999999999999998)\n",
      "11111111\n",
      "a\n",
      "104\n",
      "cherry\n",
      "apple\n",
      "6\n",
      "5.77\n",
      "64\n",
      "55\n",
      "88\n",
      "HelloW\n",
      "Age doesn't exists\n",
      "False\n",
      "True\n",
      "True\n",
      "['__class__', '__delattr__', '__dict__', '__dir__', '__doc__', '__eq__', '__format__', '__ge__', '__getattribute__', '__gt__', '__hash__', '__init__', '__init_subclass__', '__le__', '__lt__', '__module__', '__ne__', '__new__', '__reduce__', '__reduce_ex__', '__repr__', '__setattr__', '__sizeof__', '__str__', '__subclasshook__', '__weakref__', 'country', 'name']\n",
      "[-10, -8, -6, -4, -2, 0, 2, 4]\n",
      "[(0, 'cherry'), (1, 'banana'), (2, 'apple')]\n",
      "{0: 'apple', 1: 'banana', 2: 'cherry'}\n",
      "{'name': 'John', 'age': 36, 'country': 'Norway'}\n",
      "((0, 'apple'), (1, 'banana'), (2, 'cherry'))\n",
      "{(0, 'apple'), (1, 'banana'), (2, 'cherry')}\n",
      "frozenset({(0, 'apple'), (1, 'banana'), (2, 'cherry')})\n",
      "apple\n",
      "[('apple', 'Jenny'), ('banana', 'Christy'), ('cherry', 'Monica')]\n",
      "3\n",
      "banana cherry \n",
      " [False, True, True]\n",
      "3.0\n",
      "3\n",
      "0xf\n",
      "'My name is St\\xe5le'\n",
      "0b101\n",
      "0b1001\n",
      "False\n",
      "42\n",
      "Hello World\n"
     ]
    }
   ],
   "source": [
    "\"\"\" Built-in functions \"\"\"\n",
    "builtInFunctions()"
   ]
  }
 ],
 "metadata": {
  "kernelspec": {
   "display_name": "Python 3",
   "language": "python",
   "name": "python3"
  },
  "language_info": {
   "codemirror_mode": {
    "name": "ipython",
    "version": 3
   },
   "file_extension": ".py",
   "mimetype": "text/x-python",
   "name": "python",
   "nbconvert_exporter": "python",
   "pygments_lexer": "ipython3",
   "version": "3.7.0"
  }
 },
 "nbformat": 4,
 "nbformat_minor": 2
}
